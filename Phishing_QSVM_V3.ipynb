{
 "nbformat": 4,
 "nbformat_minor": 0,
 "metadata": {
  "colab": {
   "provenance": []
  },
  "kernelspec": {
   "name": "python3",
   "display_name": "Python 3 (ipykernel)",
   "language": "python"
  },
  "language_info": {
   "name": "python"
  }
 },
 "cells": [
  {
   "cell_type": "code",
   "source": "!pip install qiskit qiskit-machine-learning qiskit-aer pandas",
   "metadata": {
    "id": "lyX8SmdOu0oJ",
    "ExecuteTime": {
     "end_time": "2024-05-05T16:47:42.869208Z",
     "start_time": "2024-05-05T16:47:40.067529Z"
    }
   },
   "outputs": [
    {
     "name": "stdout",
     "output_type": "stream",
     "text": [
      "Requirement already satisfied: qiskit in c:\\users\\mizzl\\pycharmprojects\\phishing_qsvm\\.venv\\lib\\site-packages (1.0.2)\n",
      "Requirement already satisfied: qiskit-machine-learning in c:\\users\\mizzl\\pycharmprojects\\phishing_qsvm\\.venv\\lib\\site-packages (0.7.2)\n",
      "Requirement already satisfied: qiskit-aer in c:\\users\\mizzl\\pycharmprojects\\phishing_qsvm\\.venv\\lib\\site-packages (0.14.1)\n",
      "Requirement already satisfied: pandas in c:\\users\\mizzl\\pycharmprojects\\phishing_qsvm\\.venv\\lib\\site-packages (2.2.2)\n",
      "Requirement already satisfied: rustworkx>=0.14.0 in c:\\users\\mizzl\\pycharmprojects\\phishing_qsvm\\.venv\\lib\\site-packages (from qiskit) (0.14.2)\n",
      "Requirement already satisfied: numpy<2,>=1.17 in c:\\users\\mizzl\\pycharmprojects\\phishing_qsvm\\.venv\\lib\\site-packages (from qiskit) (1.26.4)\n",
      "Requirement already satisfied: scipy>=1.5 in c:\\users\\mizzl\\pycharmprojects\\phishing_qsvm\\.venv\\lib\\site-packages (from qiskit) (1.13.0)\n",
      "Requirement already satisfied: sympy>=1.3 in c:\\users\\mizzl\\pycharmprojects\\phishing_qsvm\\.venv\\lib\\site-packages (from qiskit) (1.12)\n",
      "Requirement already satisfied: dill>=0.3 in c:\\users\\mizzl\\pycharmprojects\\phishing_qsvm\\.venv\\lib\\site-packages (from qiskit) (0.3.8)\n",
      "Requirement already satisfied: python-dateutil>=2.8.0 in c:\\users\\mizzl\\pycharmprojects\\phishing_qsvm\\.venv\\lib\\site-packages (from qiskit) (2.9.0.post0)\n",
      "Requirement already satisfied: stevedore>=3.0.0 in c:\\users\\mizzl\\pycharmprojects\\phishing_qsvm\\.venv\\lib\\site-packages (from qiskit) (5.2.0)\n",
      "Requirement already satisfied: typing-extensions in c:\\users\\mizzl\\pycharmprojects\\phishing_qsvm\\.venv\\lib\\site-packages (from qiskit) (4.11.0)\n",
      "Requirement already satisfied: symengine>=0.11 in c:\\users\\mizzl\\pycharmprojects\\phishing_qsvm\\.venv\\lib\\site-packages (from qiskit) (0.11.0)\n",
      "Requirement already satisfied: qiskit-algorithms>=0.2.0 in c:\\users\\mizzl\\pycharmprojects\\phishing_qsvm\\.venv\\lib\\site-packages (from qiskit-machine-learning) (0.3.0)\n",
      "Requirement already satisfied: psutil>=5 in c:\\users\\mizzl\\pycharmprojects\\phishing_qsvm\\.venv\\lib\\site-packages (from qiskit-machine-learning) (5.9.8)\n",
      "Requirement already satisfied: scikit-learn>=1.2.0 in c:\\users\\mizzl\\pycharmprojects\\phishing_qsvm\\.venv\\lib\\site-packages (from qiskit-machine-learning) (1.4.2)\n",
      "Requirement already satisfied: fastdtw in c:\\users\\mizzl\\pycharmprojects\\phishing_qsvm\\.venv\\lib\\site-packages (from qiskit-machine-learning) (0.3.4)\n",
      "Requirement already satisfied: setuptools>=40.1.0 in c:\\users\\mizzl\\pycharmprojects\\phishing_qsvm\\.venv\\lib\\site-packages (from qiskit-machine-learning) (69.5.1)\n",
      "Requirement already satisfied: pytz>=2020.1 in c:\\users\\mizzl\\pycharmprojects\\phishing_qsvm\\.venv\\lib\\site-packages (from pandas) (2024.1)\n",
      "Requirement already satisfied: tzdata>=2022.7 in c:\\users\\mizzl\\pycharmprojects\\phishing_qsvm\\.venv\\lib\\site-packages (from pandas) (2024.1)\n",
      "Requirement already satisfied: six>=1.5 in c:\\users\\mizzl\\pycharmprojects\\phishing_qsvm\\.venv\\lib\\site-packages (from python-dateutil>=2.8.0->qiskit) (1.16.0)\n",
      "Requirement already satisfied: joblib>=1.2.0 in c:\\users\\mizzl\\pycharmprojects\\phishing_qsvm\\.venv\\lib\\site-packages (from scikit-learn>=1.2.0->qiskit-machine-learning) (1.4.2)\n",
      "Requirement already satisfied: threadpoolctl>=2.0.0 in c:\\users\\mizzl\\pycharmprojects\\phishing_qsvm\\.venv\\lib\\site-packages (from scikit-learn>=1.2.0->qiskit-machine-learning) (3.5.0)\n",
      "Requirement already satisfied: pbr!=2.1.0,>=2.0.0 in c:\\users\\mizzl\\pycharmprojects\\phishing_qsvm\\.venv\\lib\\site-packages (from stevedore>=3.0.0->qiskit) (6.0.0)\n",
      "Requirement already satisfied: mpmath>=0.19 in c:\\users\\mizzl\\pycharmprojects\\phishing_qsvm\\.venv\\lib\\site-packages (from sympy>=1.3->qiskit) (1.3.0)\n"
     ]
    },
    {
     "name": "stderr",
     "output_type": "stream",
     "text": [
      "\n",
      "[notice] A new release of pip is available: 23.2.1 -> 24.0\n",
      "[notice] To update, run: python.exe -m pip install --upgrade pip\n"
     ]
    }
   ],
   "execution_count": 8
  },
  {
   "cell_type": "code",
   "metadata": {
    "id": "baSKWEIokRa5",
    "ExecuteTime": {
     "end_time": "2024-05-05T16:47:45.567491Z",
     "start_time": "2024-05-05T16:47:45.563750Z"
    }
   },
   "source": [
    "# Import necessary libraries\n",
    "import pandas as pd\n",
    "import numpy as np\n",
    "from sklearn.model_selection import train_test_split\n",
    "from sklearn.preprocessing import StandardScaler, MinMaxScaler, LabelEncoder\n",
    "from qiskit_aer import QasmSimulator\n",
    "from qiskit.circuit.library import ZZFeatureMap\n",
    "from qiskit_machine_learning.algorithms import QSVC\n",
    "from qiskit_machine_learning.kernels import FidelityQuantumKernel\n",
    "from sklearn.metrics import (classification_report, confusion_matrix, accuracy_score, recall_score, \n",
    "precision_score, f1_score)"
   ],
   "outputs": [],
   "execution_count": 9
  },
  {
   "cell_type": "code",
   "source": [
    "# Load the data\n",
    "class_labels = ['legitimate', 'phish']\n",
    "data = pd.read_csv('data/phishing_data.csv')\n",
    "\n",
    "# Separate the data into legitimate and phishing entries\n",
    "legitimate_data = data[data['status'] == 'legitimate']\n",
    "phishing_data = data[data['status'] == 'phish']\n",
    "\n",
    "# Set the desired subset size\n",
    "subset_size = 100\n",
    "\n",
    "# Randomly select a fixed number of samples from each class\n",
    "legitimate_subset = legitimate_data.sample(n=subset_size, random_state=42)\n",
    "phishing_subset = phishing_data.sample(n=subset_size, random_state=42)\n",
    "\n",
    "# Combine the subsets to create a balanced dataset\n",
    "balanced_data = pd.concat([legitimate_subset, phishing_subset])\n",
    "\n",
    "# Shuffle the balanced dataset\n",
    "balanced_data = balanced_data.sample(frac=1, random_state=42)\n",
    "\n",
    "# Encode the 'status' column\n",
    "label_encoder = LabelEncoder()\n",
    "balanced_data['status'] = label_encoder.fit_transform(balanced_data['status'])\n",
    "\n",
    "# Drop the non-numeric columns\n",
    "numeric_columns = balanced_data.select_dtypes(include=[np.number]).columns\n",
    "balanced_data = balanced_data[numeric_columns]\n",
    "\n",
    "# Split the balanced dataset into features (X) and target (y)\n",
    "X = balanced_data.drop('status', axis=1)\n",
    "y = balanced_data['status']\n",
    "\n",
    "# Scale the features using StandardScaler\n",
    "scaler = StandardScaler()\n",
    "X = scaler.fit_transform(X)\n",
    "\n",
    "# Split the data into training and testing sets\n",
    "X_train, X_test, y_train, y_test = train_test_split(X, y, test_size=0.3, stratify=y, random_state=109)\n",
    "\n",
    "# Scale the features to the range (-1, 1)\n",
    "minmax_scale = MinMaxScaler((-1, 1)).fit(np.append(X_train, X_test, axis=0))\n",
    "X_train = minmax_scale.transform(X_train)\n",
    "X_test = minmax_scale.transform(X_test)"
   ],
   "metadata": {
    "id": "cWVV26lGy9Ky",
    "ExecuteTime": {
     "end_time": "2024-05-05T16:47:48.317279Z",
     "start_time": "2024-05-05T16:47:48.293656Z"
    }
   },
   "outputs": [],
   "execution_count": 10
  },
  {
   "cell_type": "code",
   "source": [
    "# Train the QSVC model\n",
    "seed = 10598\n",
    "backend = QasmSimulator(seed_simulator=seed)\n",
    "feature_map = ZZFeatureMap(feature_dimension=11, reps=2, entanglement='linear')\n",
    "kernel = FidelityQuantumKernel(feature_map=feature_map)\n",
    "qsvc = QSVC(quantum_kernel=kernel)\n",
    "qsvc.fit(X_train, y_train)"
   ],
   "metadata": {
    "colab": {
     "base_uri": "https://localhost:8080/",
     "height": 321
    },
    "id": "7BGdiEewzTfs",
    "outputId": "343701d9-5093-4ad3-e338-5c09c59a8da6",
    "jupyter": {
     "is_executing": true
    },
    "ExecuteTime": {
     "start_time": "2024-05-05T16:47:51.113510Z"
    }
   },
   "outputs": [],
   "execution_count": null
  },
  {
   "cell_type": "code",
   "source": [
    "# Evaluate the trained model\n",
    "result = qsvc.predict(X_test)\n",
    "print(\"ground truth: {}\".format(y_test))\n",
    "print(\"prediction: {}\".format(result))\n",
    "print(\"accuracy: {}\".format(qsvc.score(X_test, y_test)))\n",
    "\n",
    "classification = classification_report(y_test, result)\n",
    "confusion = confusion_matrix(y_test, result)\n",
    "accuracy = round(accuracy_score(y_test, result), 5)\n",
    "recall = round(recall_score(y_test, result, average='macro') * 100, 5)\n",
    "precision = round(precision_score(y_test, result, average='weighted') * 100, 5)\n",
    "f1 = round(f1_score(y_test, result, average='weighted') * 100, 5)\n",
    "\n",
    "print(accuracy)\n",
    "print(recall)\n",
    "print(precision)\n",
    "print(f1)\n",
    "print(1 - accuracy)"
   ],
   "metadata": {
    "id": "5afIZzVYzZ97",
    "ExecuteTime": {
     "end_time": "2024-05-05T01:43:46.485642Z",
     "start_time": "2024-05-05T01:35:27.268823Z"
    }
   },
   "outputs": [
    {
     "name": "stdout",
     "output_type": "stream",
     "text": [
      "ground truth: 947     1\n",
      "1973    0\n",
      "1328    0\n",
      "714     1\n",
      "741     1\n",
      "548     1\n",
      "542     1\n",
      "1578    0\n",
      "1589    0\n",
      "1136    0\n",
      "1617    0\n",
      "1067    0\n",
      "1451    0\n",
      "1662    0\n",
      "296     1\n",
      "974     1\n",
      "1636    0\n",
      "764     1\n",
      "1370    0\n",
      "10      1\n",
      "1066    0\n",
      "221     1\n",
      "1621    0\n",
      "1076    0\n",
      "1277    0\n",
      "1096    0\n",
      "617     1\n",
      "1221    0\n",
      "261     1\n",
      "1527    0\n",
      "1604    0\n",
      "636     1\n",
      "687     1\n",
      "1901    0\n",
      "660     1\n",
      "1296    0\n",
      "218     1\n",
      "1924    0\n",
      "1866    0\n",
      "292     1\n",
      "235     1\n",
      "312     1\n",
      "837     1\n",
      "1023    0\n",
      "859     1\n",
      "1811    0\n",
      "826     1\n",
      "280     1\n",
      "1218    0\n",
      "76      1\n",
      "1411    0\n",
      "787     1\n",
      "753     1\n",
      "626     1\n",
      "1601    0\n",
      "1938    0\n",
      "740     1\n",
      "513     1\n",
      "621     1\n",
      "1059    0\n",
      "Name: status, dtype: int32\n",
      "prediction: [1 0 0 1 1 1 1 0 0 0 0 0 0 0 1 1 0 1 0 1 1 1 0 0 0 0 1 0 1 0 0 1 1 0 1 0 1\n",
      " 0 0 1 1 1 1 0 1 0 1 1 0 1 0 1 1 1 0 0 1 1 1 0]\n",
      "accuracy: 0.9833333333333333\n",
      "0.98333\n",
      "98.33333\n",
      "98.3871\n",
      "98.33287\n",
      "0.016669999999999963\n"
     ]
    }
   ],
   "execution_count": 7
  },
  {
   "metadata": {},
   "cell_type": "code",
   "outputs": [],
   "execution_count": null,
   "source": ""
  }
 ]
}
